{
 "cells": [
  {
   "cell_type": "markdown",
   "metadata": {},
   "source": [
    "# SQL - Fundamentals\n",
    "\n",
    "## Introduction\n",
    "\n",
    "In this lesson, we'll run through some practice questions to practice SQL queries.\n",
    "\n",
    "## Objectives\n",
    "\n",
    "In this session you will:\n",
    "\n",
    "1. Practice interpreting \"word problems\" and translating them into SQL queries\n",
    "2. Query a database for table meta-information\n",
    "3. Order and limit results\n",
    "4. Aggregate and have SQL perform arithmetic on results\n",
    "5. Use subqueries and joins to combine data from multiple tables"
   ]
  },
  {
   "cell_type": "markdown",
   "metadata": {},
   "source": [
    "## Your Task: Querying Census Data\n",
    "\n",
    "<img src=\"images/polynesian.jpg\" style=\"width:500px;\">\n",
    "\n",
    "Photo by <a href=\"https://unsplash.com/@davidclode?utm_source=unsplash&utm_medium=referral&utm_content=creditCopyText\">David Clode</a> on <a href=\"https://unsplash.com/s/photos/polynesian?utm_source=unsplash&utm_medium=referral&utm_content=creditCopyText\">Unsplash</a>\n",
    "  \n",
    "\n",
    "### Business Understanding\n",
    "\n",
    "A Polynesian identifying presidential candidate in the year 2016, whom is also a Hollywood star and former professional wrestler. would like to appeal to Pacific Islanders to vote for them.  While he is not the only actor/wrestler in the running, he believes his background will help him win this demographic.  He would like to know more Pacific Islanders in the United States, especially where they tend to live.  \n",
    "\n",
    "### Data Understanding\n",
    "\n",
    "This database is provided by [Public Affairs Data Journalism at Stanford](http://2016.padjo.org/tutorials/sqlite-data-starterpacks/#toc-american-community-survey-1-year-data-for-2015) and it represents census data from the year 2015.\n",
    "\n",
    "You do not have a entity relations diagram, but I will say that `state` is the only key that can be used to join the tables.  It is present in all 3 tables in this database."
   ]
  },
  {
   "cell_type": "markdown",
   "metadata": {},
   "source": [
    "## 0. Import packages you will need\n",
    "\n",
    "Import the libraries you'll need to connect to an sqlite database and import results into a dataframe."
   ]
  },
  {
   "cell_type": "code",
   "execution_count": 32,
   "metadata": {},
   "outputs": [],
   "source": [
    "import sqlite3\n",
    "import pandas as pd"
   ]
  },
  {
   "cell_type": "markdown",
   "metadata": {},
   "source": [
    "## 1. Explore the Data\n",
    "\n",
    "\n",
    "Open a connection to the dataframe"
   ]
  },
  {
   "cell_type": "code",
   "execution_count": null,
   "metadata": {},
   "outputs": [],
   "source": []
  },
  {
   "cell_type": "markdown",
   "metadata": {},
   "source": [
    "What are the columns and data types in each table?  \n",
    "\n",
    "Print the columns and datatypes."
   ]
  },
  {
   "cell_type": "code",
   "execution_count": 33,
   "metadata": {},
   "outputs": [
    {
     "name": "stdout",
     "output_type": "stream",
     "text": [
      "CREATE TABLE states (\n",
      "    year INTEGER , \n",
      "    name TEXT , \n",
      "    geo_id TEXT , \n",
      "    total_population INTEGER , \n",
      "    white INTEGER , \n",
      "    black INTEGER , \n",
      "    hispanic INTEGER , \n",
      "    asian INTEGER , \n",
      "    american_indian INTEGER , \n",
      "    pacific_islander INTEGER , \n",
      "    other_race INTEGER , \n",
      "    median_age FLOAT , \n",
      "    total_households INTEGER , \n",
      "    owner_occupied_homes_median_value INTEGER , \n",
      "    per_capita_income INTEGER , \n",
      "    median_household_income INTEGER , \n",
      "    below_poverty_line INTEGER, \n",
      "    foreign_born_population INTEGER, \n",
      "    state TEXT \n",
      ")\n",
      "CREATE TABLE congressional_districts (\n",
      "    year INTEGER , \n",
      "    name TEXT , \n",
      "    geo_id TEXT , \n",
      "    total_population INTEGER , \n",
      "    white INTEGER , \n",
      "    black INTEGER , \n",
      "    hispanic INTEGER , \n",
      "    asian INTEGER , \n",
      "    american_indian INTEGER , \n",
      "    pacific_islander INTEGER , \n",
      "    other_race INTEGER , \n",
      "    median_age FLOAT , \n",
      "    total_households INTEGER , \n",
      "    owner_occupied_homes_median_value INTEGER , \n",
      "    per_capita_income INTEGER , \n",
      "    median_household_income INTEGER , \n",
      "    below_poverty_line INTEGER, \n",
      "    foreign_born_population INTEGER, \n",
      "    state TEXT,\n",
      "    congressional_district TEXT\n",
      ")\n",
      "CREATE TABLE places (\n",
      "    year INTEGER , \n",
      "    name TEXT , \n",
      "    geo_id TEXT , \n",
      "    total_population INTEGER , \n",
      "    white INTEGER , \n",
      "    black INTEGER , \n",
      "    hispanic INTEGER , \n",
      "    asian INTEGER , \n",
      "    american_indian INTEGER , \n",
      "    pacific_islander INTEGER , \n",
      "    other_race INTEGER , \n",
      "    median_age FLOAT , \n",
      "    total_households INTEGER , \n",
      "    owner_occupied_homes_median_value INTEGER , \n",
      "    per_capita_income INTEGER , \n",
      "    median_household_income INTEGER , \n",
      "    below_poverty_line INTEGER, \n",
      "    foreign_born_population INTEGER, \n",
      "    state TEXT,\n",
      "    place TEXT\n",
      ")\n"
     ]
    }
   ],
   "source": [
    "query = \"\"\"\n",
    "SELECT *\n",
    "FROM sqlite_master\n",
    ";\n",
    "\"\"\"\n",
    "\n",
    "schema = pd.read_sql(query, conn)\n",
    "print(schema['sql'][0])\n",
    "print(schema['sql'][1])\n",
    "print(schema['sql'][2])"
   ]
  },
  {
   "cell_type": "markdown",
   "metadata": {},
   "source": [
    "### This dataset is actually rather small, but we are going to pretend it is very large, too large to hold in memory all at once.  We will be viewing the data we return in dataframes, but we will use SQL to do all the manipulations."
   ]
  },
  {
   "cell_type": "markdown",
   "metadata": {},
   "source": [
    "## Part 1: Basic Queries\n",
    "\n",
    "Select the top 5 rows of each of the three tables."
   ]
  },
  {
   "cell_type": "code",
   "execution_count": null,
   "metadata": {},
   "outputs": [],
   "source": []
  },
  {
   "cell_type": "code",
   "execution_count": null,
   "metadata": {},
   "outputs": [],
   "source": []
  },
  {
   "cell_type": "code",
   "execution_count": null,
   "metadata": {},
   "outputs": [],
   "source": []
  },
  {
   "cell_type": "markdown",
   "metadata": {},
   "source": [
    "Which states have the most Pacific Islanders living in them?  Return the top 10, ranked by most to least."
   ]
  },
  {
   "cell_type": "code",
   "execution_count": null,
   "metadata": {},
   "outputs": [],
   "source": []
  },
  {
   "cell_type": "markdown",
   "metadata": {},
   "source": [
    "# Part 2: Arithmetic Functions\n",
    "\n",
    "How many Pacific Islanders lived in the US in 2015?"
   ]
  },
  {
   "cell_type": "code",
   "execution_count": null,
   "metadata": {},
   "outputs": [],
   "source": []
  },
  {
   "cell_type": "markdown",
   "metadata": {},
   "source": [
    "Which 10 states have the highest percentage of their total population as Pacific Islanders?  \n",
    "\n",
    "You can use `cast(column as float)` to change the type of a `column` to a `float`.  This will be necessary for the arithmetic needed."
   ]
  },
  {
   "cell_type": "code",
   "execution_count": null,
   "metadata": {},
   "outputs": [],
   "source": []
  },
  {
   "cell_type": "markdown",
   "metadata": {},
   "source": [
    "# Part 3: Conditionals and Subqueries\n",
    "\n"
   ]
  },
  {
   "cell_type": "markdown",
   "metadata": {},
   "source": [
    "How many total Pacific Islanders live in the 10 states most Pacific Islanders?"
   ]
  },
  {
   "cell_type": "code",
   "execution_count": null,
   "metadata": {},
   "outputs": [],
   "source": []
  },
  {
   "cell_type": "markdown",
   "metadata": {},
   "source": [
    "Which 10 places in California have the greatest percentage of their population identifying as Pacific Islanders?"
   ]
  },
  {
   "cell_type": "code",
   "execution_count": null,
   "metadata": {},
   "outputs": [],
   "source": []
  },
  {
   "cell_type": "markdown",
   "metadata": {},
   "source": [
    "# Part 4. Joins\n",
    "\n",
    "Which congressional districts in America have no Pacific Islanders living there?  \n",
    "\n",
    "**Order them alphabetically by state.**\n",
    "\n",
    "Include any districts with missing values as well."
   ]
  },
  {
   "cell_type": "code",
   "execution_count": null,
   "metadata": {},
   "outputs": [],
   "source": []
  },
  {
   "cell_type": "markdown",
   "metadata": {},
   "source": [
    "Close your connection to the database."
   ]
  },
  {
   "cell_type": "markdown",
   "metadata": {},
   "source": [
    "# Part 5. Groupby"
   ]
  },
  {
   "cell_type": "markdown",
   "metadata": {},
   "source": [
    "How many congressional districts in each state have no Pacific Islanders living in them?\n",
    "\n",
    "Return only districts with more than one district without Pacific Islanders.\n",
    "\n",
    "Order the results by number of congressional distratics with no Pacific Islanders."
   ]
  },
  {
   "cell_type": "code",
   "execution_count": null,
   "metadata": {},
   "outputs": [],
   "source": []
  },
  {
   "cell_type": "markdown",
   "metadata": {},
   "source": [
    "# Great work!  \n",
    "\n",
    "### Don't forget to close your connection!!"
   ]
  },
  {
   "cell_type": "code",
   "execution_count": null,
   "metadata": {},
   "outputs": [],
   "source": []
  },
  {
   "cell_type": "markdown",
   "metadata": {},
   "source": [
    "## Summary\n",
    "\n",
    "In this lesson, we produced several data queries for a model car company, mainly focused around its customer data. Along the way, we reviewed many of the major concepts and keywords associated with SQL `SELECT` queries: `FROM`, `WHERE`, `GROUP BY`, `HAVING`, `ORDER BY`, `JOIN`, `SUM`, `COUNT`, and `AVG`.\n",
    "\n",
    "# [Exit Ticket](https://docs.google.com/forms/d/e/1FAIpQLScVX-8y_vNLjaxFry_wWacl2a8NhvznAQvNkmiuXmxQ6b_wKg/viewform?usp=sf_link)"
   ]
  },
  {
   "cell_type": "code",
   "execution_count": null,
   "metadata": {},
   "outputs": [],
   "source": []
  }
 ],
 "metadata": {
  "kernelspec": {
   "display_name": "learn-env",
   "language": "python",
   "name": "learn-env"
  },
  "language_info": {
   "codemirror_mode": {
    "name": "ipython",
    "version": 3
   },
   "file_extension": ".py",
   "mimetype": "text/x-python",
   "name": "python",
   "nbconvert_exporter": "python",
   "pygments_lexer": "ipython3",
   "version": "3.8.5"
  }
 },
 "nbformat": 4,
 "nbformat_minor": 2
}
