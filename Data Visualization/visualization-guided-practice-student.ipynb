{
 "cells": [
  {
   "cell_type": "markdown",
   "id": "53bcaa9a",
   "metadata": {},
   "source": [
    "# Guided Practice Data Visualization\n",
    "### Matplotlib and Seaborn\n",
    "\n",
    "Creating visualization of data is one of a data scientists most important jobs.  This is how we communicate our findings to others in the most impactful ways.\n",
    "\n",
    "That said, HOW we construct our visualizations is almost as important as the message we are tying to communicate with them.  They have to both clearly communicate the information we want to show AND be visually pleasing to viewers.  \n",
    "\n",
    "Today we will practice doing both by choosing the best kind of visualization to answer some questions and use the options in our graphing libraries to make sure they are easy and pleasurable to read.\n",
    "\n",
    "Seaborn and Matplotlib.pyplot will be your primary tools for data visualization in this program.  We will be using them today to create our graphs.  Seaborn is an API for matplotlib and we can use both together to create the visualizations we we need to tell our stories.\n",
    "\n",
    "Make sure that your graphs have:\n",
    "\n",
    "1. Titles that communicate the purpose of the graphs\n",
    "2. Axis labels that clearly describe the variables being explored\n",
    "3. Colors that please the eye\n",
    "4. Sizes that make them readable"
   ]
  },
  {
   "cell_type": "code",
   "execution_count": 1,
   "id": "834f2096",
   "metadata": {},
   "outputs": [],
   "source": [
    "import pandas as pd\n",
    "import numpy as np\n",
    "import matplotlib.pyplot as plt\n",
    "import seaborn as sns"
   ]
  },
  {
   "cell_type": "markdown",
   "id": "063bb6ca",
   "metadata": {},
   "source": [
    "# 0. Read and Clean data:\n",
    "\n",
    "For this session we will be working with data regarding coffee tasting.  This data includes region, grower, and species, as well as aspects of the flavor and drinking experience as well as overall ratings.  We won't be using all of the data.  \n",
    "\n",
    "Greater description can be found here: https://github.com/rfordatascience/tidytuesday/blob/master/data/2020/2020-07-07/readme.md\n"
   ]
  },
  {
   "cell_type": "code",
   "execution_count": 174,
   "id": "6c0b44a7",
   "metadata": {
    "scrolled": false
   },
   "outputs": [
    {
     "name": "stdout",
     "output_type": "stream",
     "text": [
      "<class 'pandas.core.frame.DataFrame'>\n",
      "Int64Index: 989 entries, 1 to 1309\n",
      "Data columns (total 11 columns):\n",
      " #   Column                Non-Null Count  Dtype  \n",
      "---  ------                --------------  -----  \n",
      " 0   variety               989 non-null    object \n",
      " 1   aroma                 989 non-null    float64\n",
      " 2   flavor                989 non-null    float64\n",
      " 3   aftertaste            989 non-null    float64\n",
      " 4   acidity               989 non-null    float64\n",
      " 5   body                  989 non-null    float64\n",
      " 6   balance               989 non-null    float64\n",
      " 7   uniformity            989 non-null    float64\n",
      " 8   sweetness             989 non-null    float64\n",
      " 9   altitude_mean_meters  989 non-null    float64\n",
      " 10  total.cup.points      989 non-null    float64\n",
      "dtypes: float64(10), object(1)\n",
      "memory usage: 92.7+ KB\n"
     ]
    }
   ],
   "source": [
    "df = pd.read_csv(\"https://raw.githubusercontent.com/jldbc/coffee-quality-database/master/data/arabica_data_cleaned.csv\")\n",
    "\n",
    "cols = ['variety','aroma', 'flavor', 'aftertaste','acidity','body','balance',\n",
    "        'uniformity','sweetness','altitude_mean_meters','total.cup.points']\n",
    "\n",
    "df.columns = df.columns.str.lower()\n",
    "\n",
    "df = df[cols]\n",
    "\n",
    "df = df[df['altitude_mean_meters'] < 6000]\n",
    "df = df[df['total.cup.points'] > 0]\n",
    "df = df.dropna()\n",
    "df.info()"
   ]
  },
  {
   "cell_type": "code",
   "execution_count": 175,
   "id": "59ea906c",
   "metadata": {},
   "outputs": [
    {
     "data": {
      "text/html": [
       "<div>\n",
       "<style scoped>\n",
       "    .dataframe tbody tr th:only-of-type {\n",
       "        vertical-align: middle;\n",
       "    }\n",
       "\n",
       "    .dataframe tbody tr th {\n",
       "        vertical-align: top;\n",
       "    }\n",
       "\n",
       "    .dataframe thead th {\n",
       "        text-align: right;\n",
       "    }\n",
       "</style>\n",
       "<table border=\"1\" class=\"dataframe\">\n",
       "  <thead>\n",
       "    <tr style=\"text-align: right;\">\n",
       "      <th></th>\n",
       "      <th>aroma</th>\n",
       "      <th>flavor</th>\n",
       "      <th>aftertaste</th>\n",
       "      <th>acidity</th>\n",
       "      <th>body</th>\n",
       "      <th>balance</th>\n",
       "      <th>uniformity</th>\n",
       "      <th>sweetness</th>\n",
       "      <th>altitude_mean_meters</th>\n",
       "      <th>total.cup.points</th>\n",
       "    </tr>\n",
       "  </thead>\n",
       "  <tbody>\n",
       "    <tr>\n",
       "      <th>count</th>\n",
       "      <td>989.000000</td>\n",
       "      <td>989.000000</td>\n",
       "      <td>989.000000</td>\n",
       "      <td>989.000000</td>\n",
       "      <td>989.000000</td>\n",
       "      <td>989.000000</td>\n",
       "      <td>989.000000</td>\n",
       "      <td>989.000000</td>\n",
       "      <td>989.000000</td>\n",
       "      <td>989.000000</td>\n",
       "    </tr>\n",
       "    <tr>\n",
       "      <th>mean</th>\n",
       "      <td>7.566926</td>\n",
       "      <td>7.510688</td>\n",
       "      <td>7.383741</td>\n",
       "      <td>7.521941</td>\n",
       "      <td>7.503589</td>\n",
       "      <td>7.499100</td>\n",
       "      <td>9.871769</td>\n",
       "      <td>9.931840</td>\n",
       "      <td>1322.801712</td>\n",
       "      <td>82.114853</td>\n",
       "    </tr>\n",
       "    <tr>\n",
       "      <th>std</th>\n",
       "      <td>0.301677</td>\n",
       "      <td>0.320824</td>\n",
       "      <td>0.330384</td>\n",
       "      <td>0.303029</td>\n",
       "      <td>0.270437</td>\n",
       "      <td>0.339979</td>\n",
       "      <td>0.446691</td>\n",
       "      <td>0.425705</td>\n",
       "      <td>469.364534</td>\n",
       "      <td>2.622705</td>\n",
       "    </tr>\n",
       "    <tr>\n",
       "      <th>min</th>\n",
       "      <td>5.080000</td>\n",
       "      <td>6.170000</td>\n",
       "      <td>6.170000</td>\n",
       "      <td>5.250000</td>\n",
       "      <td>6.330000</td>\n",
       "      <td>6.080000</td>\n",
       "      <td>6.000000</td>\n",
       "      <td>1.330000</td>\n",
       "      <td>1.000000</td>\n",
       "      <td>59.830000</td>\n",
       "    </tr>\n",
       "    <tr>\n",
       "      <th>25%</th>\n",
       "      <td>7.420000</td>\n",
       "      <td>7.330000</td>\n",
       "      <td>7.170000</td>\n",
       "      <td>7.330000</td>\n",
       "      <td>7.330000</td>\n",
       "      <td>7.330000</td>\n",
       "      <td>10.000000</td>\n",
       "      <td>10.000000</td>\n",
       "      <td>1100.000000</td>\n",
       "      <td>81.170000</td>\n",
       "    </tr>\n",
       "    <tr>\n",
       "      <th>50%</th>\n",
       "      <td>7.580000</td>\n",
       "      <td>7.500000</td>\n",
       "      <td>7.420000</td>\n",
       "      <td>7.500000</td>\n",
       "      <td>7.500000</td>\n",
       "      <td>7.500000</td>\n",
       "      <td>10.000000</td>\n",
       "      <td>10.000000</td>\n",
       "      <td>1310.640000</td>\n",
       "      <td>82.420000</td>\n",
       "    </tr>\n",
       "    <tr>\n",
       "      <th>75%</th>\n",
       "      <td>7.750000</td>\n",
       "      <td>7.670000</td>\n",
       "      <td>7.580000</td>\n",
       "      <td>7.670000</td>\n",
       "      <td>7.670000</td>\n",
       "      <td>7.670000</td>\n",
       "      <td>10.000000</td>\n",
       "      <td>10.000000</td>\n",
       "      <td>1600.000000</td>\n",
       "      <td>83.580000</td>\n",
       "    </tr>\n",
       "    <tr>\n",
       "      <th>max</th>\n",
       "      <td>8.750000</td>\n",
       "      <td>8.670000</td>\n",
       "      <td>8.580000</td>\n",
       "      <td>8.580000</td>\n",
       "      <td>8.420000</td>\n",
       "      <td>8.580000</td>\n",
       "      <td>10.000000</td>\n",
       "      <td>10.000000</td>\n",
       "      <td>4287.000000</td>\n",
       "      <td>89.920000</td>\n",
       "    </tr>\n",
       "  </tbody>\n",
       "</table>\n",
       "</div>"
      ],
      "text/plain": [
       "            aroma      flavor  aftertaste     acidity        body     balance  \\\n",
       "count  989.000000  989.000000  989.000000  989.000000  989.000000  989.000000   \n",
       "mean     7.566926    7.510688    7.383741    7.521941    7.503589    7.499100   \n",
       "std      0.301677    0.320824    0.330384    0.303029    0.270437    0.339979   \n",
       "min      5.080000    6.170000    6.170000    5.250000    6.330000    6.080000   \n",
       "25%      7.420000    7.330000    7.170000    7.330000    7.330000    7.330000   \n",
       "50%      7.580000    7.500000    7.420000    7.500000    7.500000    7.500000   \n",
       "75%      7.750000    7.670000    7.580000    7.670000    7.670000    7.670000   \n",
       "max      8.750000    8.670000    8.580000    8.580000    8.420000    8.580000   \n",
       "\n",
       "       uniformity   sweetness  altitude_mean_meters  total.cup.points  \n",
       "count  989.000000  989.000000            989.000000        989.000000  \n",
       "mean     9.871769    9.931840           1322.801712         82.114853  \n",
       "std      0.446691    0.425705            469.364534          2.622705  \n",
       "min      6.000000    1.330000              1.000000         59.830000  \n",
       "25%     10.000000   10.000000           1100.000000         81.170000  \n",
       "50%     10.000000   10.000000           1310.640000         82.420000  \n",
       "75%     10.000000   10.000000           1600.000000         83.580000  \n",
       "max     10.000000   10.000000           4287.000000         89.920000  "
      ]
     },
     "execution_count": 175,
     "metadata": {},
     "output_type": "execute_result"
    }
   ],
   "source": [
    "df.describe()"
   ]
  },
  {
   "cell_type": "markdown",
   "id": "30782f4f",
   "metadata": {},
   "source": [
    "# 1. Which variety of coffee do cuppers rate most highly?"
   ]
  },
  {
   "cell_type": "code",
   "execution_count": null,
   "id": "fb1f5cf2",
   "metadata": {},
   "outputs": [],
   "source": []
  },
  {
   "cell_type": "markdown",
   "id": "39e8b6f7",
   "metadata": {},
   "source": [
    "# 2. What affects flavor more, sweetness or body? "
   ]
  },
  {
   "cell_type": "code",
   "execution_count": null,
   "id": "c502ce07",
   "metadata": {},
   "outputs": [],
   "source": []
  },
  {
   "cell_type": "markdown",
   "id": "44517c6b",
   "metadata": {},
   "source": [
    "# 3. Which aspect of the cupping experience most affects the total cup points?"
   ]
  },
  {
   "cell_type": "code",
   "execution_count": null,
   "id": "561cf4cb",
   "metadata": {},
   "outputs": [],
   "source": []
  },
  {
   "cell_type": "markdown",
   "id": "0f63a210",
   "metadata": {},
   "source": [
    "# 4. What other questions can we answer by visualizing this data?"
   ]
  },
  {
   "cell_type": "code",
   "execution_count": null,
   "id": "e2fea4f0",
   "metadata": {},
   "outputs": [],
   "source": []
  },
  {
   "cell_type": "markdown",
   "id": "a8340ba0",
   "metadata": {},
   "source": [
    "# Conclusion\n",
    "\n",
    "In this notebook you practiced making informative and attractive visualizations to answer questions about data.\n",
    "\n",
    "# [Exit Ticket](https://docs.google.com/forms/d/e/1FAIpQLScVX-8y_vNLjaxFry_wWacl2a8NhvznAQvNkmiuXmxQ6b_wKg/viewform)"
   ]
  },
  {
   "cell_type": "code",
   "execution_count": null,
   "id": "df957398",
   "metadata": {},
   "outputs": [],
   "source": []
  }
 ],
 "metadata": {
  "kernelspec": {
   "display_name": "learn-env",
   "language": "python",
   "name": "learn-env"
  },
  "language_info": {
   "codemirror_mode": {
    "name": "ipython",
    "version": 3
   },
   "file_extension": ".py",
   "mimetype": "text/x-python",
   "name": "python",
   "nbconvert_exporter": "python",
   "pygments_lexer": "ipython3",
   "version": "3.8.5"
  }
 },
 "nbformat": 4,
 "nbformat_minor": 5
}
