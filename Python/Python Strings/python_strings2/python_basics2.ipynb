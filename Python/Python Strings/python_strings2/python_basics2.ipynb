{
 "cells": [
  {
   "cell_type": "markdown",
   "id": "0b457d0a",
   "metadata": {},
   "source": [
    "# Python Fundamentals 2: loops, conditionals and containers\n",
    "\n",
    "\n",
    "<img src=\"images/apology.jpeg\" style=\"width:500px;\">\n",
    "\n",
    "Image source: [Britannica](https://www.britannica.com/biography/Socrates/Platos-Apology)\n",
    "\n",
    "<img src=\"images/paine.jpeg\" style=\"width:500px;\">\n",
    "\n",
    "Image source: [The Great Peacemakers](https://www.thegreatpeacemakers.com/thomas-paine.html)"
   ]
  },
  {
   "cell_type": "markdown",
   "id": "d8e0a0ae",
   "metadata": {},
   "source": [
    "# Compare Vocabulary of  Plato's *Apology* To The Writings of Thomas Paine\n",
    "\n",
    "Both Socrates, via the writings of Plato, and Thomas Paine, the early American political writer, had ideas about virtue and citizenship.  However, they came from very different times.  Let's analyze and compare some of their work.\n",
    "\n",
    "In this notebooks you will:\n",
    "\n",
    "1. Load the processed text file\n",
    "2. Determine the length of each document in characters and in words,\n",
    "3. Count the number of different words and the number of occurances of each word in each document,\n",
    "4. Find the 25 most common words in each document\n",
    "5. And create a visualization to compare the most frequent words in each document.\n",
    "\n",
    "**Note** While the writings of Thomas Paine are originally in English, the writings of Plato were originally in Ancient Greek.  We will be exploring a translation of Plato, which will be influential on the vocabulary used."
   ]
  },
  {
   "cell_type": "markdown",
   "id": "098009eb",
   "metadata": {},
   "source": [
    "# 0. Load the Data From Disk"
   ]
  },
  {
   "cell_type": "markdown",
   "id": "980319a6",
   "metadata": {},
   "source": [
    "### Load your data from disk to resume working on it.\n",
    "\n",
    "Create a function called `load_text()` that takes a file name and returns the contents of that file as string variable.\n",
    "\n",
    "Use this function to:\n",
    "\n",
    "1. Load 'plato.txt' into a variable called `plato`\n",
    "2. load 'paine.txt' into a variable called `paine`"
   ]
  },
  {
   "cell_type": "code",
   "execution_count": null,
   "id": "bef8b3e4",
   "metadata": {},
   "outputs": [],
   "source": []
  },
  {
   "cell_type": "markdown",
   "id": "387ebed3",
   "metadata": {},
   "source": [
    "# 1. Compare Lengths of Strings"
   ]
  },
  {
   "cell_type": "markdown",
   "id": "8714463c",
   "metadata": {},
   "source": [
    "#### Compare the lengths of each string.  Which document is longer?  By how many characters?\n"
   ]
  },
  {
   "cell_type": "code",
   "execution_count": null,
   "id": "5f2af691",
   "metadata": {},
   "outputs": [],
   "source": []
  },
  {
   "cell_type": "markdown",
   "id": "76d1e542",
   "metadata": {},
   "source": [
    "Now let's compare the number of words.  \n",
    "\n",
    "* Make a lists of all of the words that are separated by spaces in each document.  Name the variables that contain these lists 'paine_words' and 'plato_words'. \n",
    "\n",
    "* Print out the number of words in each list.  \n",
    "\n",
    "* Which has more words, by how much?"
   ]
  },
  {
   "cell_type": "markdown",
   "id": "dffe76c7",
   "metadata": {},
   "source": [
    "# 2. Compare Number of Words"
   ]
  },
  {
   "cell_type": "code",
   "execution_count": null,
   "id": "7236dfdd",
   "metadata": {},
   "outputs": [],
   "source": []
  },
  {
   "cell_type": "markdown",
   "id": "bca0db25",
   "metadata": {},
   "source": [
    "# 3. Compare Word Frequencies"
   ]
  },
  {
   "cell_type": "markdown",
   "id": "1a26fc25",
   "metadata": {},
   "source": [
    "We are going to make a dictionary with the unique words in each text as the keys and the number of occurances of that word as the values.  \n",
    "\n",
    "* Create a helper function named `lower_list()` that takes a list of words and returns a new list with all the same words, but lower case.\n",
    "\n",
    "* Create a function named `count_words()` that:\n",
    "    * Takes a list of strings as an argument\n",
    "    * Makes a new list with all the words lower-case\n",
    "    * Returns a new dictionary with each unique word in the list as keys and the number of occurances of that word as values.\n",
    "    \n",
    "Start by writing the docstring and comments for the function, then use those comments to guide your code."
   ]
  },
  {
   "cell_type": "code",
   "execution_count": null,
   "id": "3a00153a",
   "metadata": {},
   "outputs": [],
   "source": []
  },
  {
   "cell_type": "code",
   "execution_count": null,
   "id": "15e0b442",
   "metadata": {},
   "outputs": [],
   "source": []
  },
  {
   "cell_type": "markdown",
   "id": "b5bdf80c",
   "metadata": {},
   "source": [
    "#### Use `count_words()` to create dictionaries for both texts named `paine_word_counts` and `plato_word_counts`."
   ]
  },
  {
   "cell_type": "code",
   "execution_count": null,
   "id": "2e021d0b",
   "metadata": {},
   "outputs": [],
   "source": []
  },
  {
   "cell_type": "markdown",
   "id": "d52fac24",
   "metadata": {},
   "source": [
    "How many unique words does each author use in their texts?"
   ]
  },
  {
   "cell_type": "code",
   "execution_count": null,
   "id": "b26ef140",
   "metadata": {},
   "outputs": [],
   "source": []
  },
  {
   "cell_type": "markdown",
   "id": "d7da1c67",
   "metadata": {},
   "source": [
    "How many times do they each use the word 'i'?"
   ]
  },
  {
   "cell_type": "code",
   "execution_count": null,
   "id": "babbad3d",
   "metadata": {},
   "outputs": [],
   "source": []
  },
  {
   "cell_type": "markdown",
   "id": "5e598820",
   "metadata": {},
   "source": [
    "#### Now we are going to find the 25 most common words in each document\n",
    "\n",
    "* create a function called `top25` that takes a dictionary of word counts and returns a list of tuples of the 25 dictionary entries with the highest values (the largest word counts).\n",
    "\n",
    "* use this function to create lists of tuples of the most common 25 words of each document.  Call these lists `plato_top_25` and `paine_top_25` "
   ]
  },
  {
   "cell_type": "code",
   "execution_count": null,
   "id": "e016fc1d",
   "metadata": {},
   "outputs": [],
   "source": []
  },
  {
   "cell_type": "markdown",
   "id": "112610bb",
   "metadata": {},
   "source": [
    "### Finally, print the 25 most common words in each document.  \n",
    "\n"
   ]
  },
  {
   "cell_type": "code",
   "execution_count": null,
   "id": "562e8052",
   "metadata": {},
   "outputs": [],
   "source": []
  },
  {
   "cell_type": "markdown",
   "id": "06930e01",
   "metadata": {},
   "source": [
    "Do you notice anything interesting?  Neither do I.\n",
    "\n",
    "What could we do to get more interesting results?"
   ]
  },
  {
   "cell_type": "markdown",
   "id": "7960e500",
   "metadata": {},
   "source": [
    "# Bonus Round: Visualize!\n",
    "\n",
    "Can you use the matplotlib.pyplot module to make of bar chart of how common each word is?"
   ]
  },
  {
   "cell_type": "code",
   "execution_count": null,
   "id": "6f20686a",
   "metadata": {},
   "outputs": [],
   "source": []
  },
  {
   "cell_type": "code",
   "execution_count": null,
   "id": "096cc6d1",
   "metadata": {},
   "outputs": [],
   "source": []
  },
  {
   "cell_type": "markdown",
   "id": "dec7fe64",
   "metadata": {},
   "source": [
    "# Summary:\n",
    "\n",
    "## Congratulations!\n",
    "\n",
    "In this notebook you:\n",
    "1. Loaded a text file from disk into a python string\n",
    "2. Compared the lengths of strings\n",
    "3. Split a string into a list of words to compare the number of words in 2 documents.\n",
    "4. Counted the number of occurances of each word in 2 documents and stored the information in a dictionary\n",
    "5. Ordered the items from a dictionary and selected the top 25 from each text\n",
    "6. Maybe even graphed the frequency of the top 25 words.\n",
    "\n",
    "# [Exit Ticket](https://docs.google.com/forms/d/e/1FAIpQLScVX-8y_vNLjaxFry_wWacl2a8NhvznAQvNkmiuXmxQ6b_wKg/viewform?usp=sf_link)"
   ]
  },
  {
   "cell_type": "code",
   "execution_count": null,
   "id": "67efad06",
   "metadata": {},
   "outputs": [],
   "source": []
  }
 ],
 "metadata": {
  "kernelspec": {
   "display_name": "learn-env",
   "language": "python",
   "name": "learn-env"
  },
  "language_info": {
   "codemirror_mode": {
    "name": "ipython",
    "version": 3
   },
   "file_extension": ".py",
   "mimetype": "text/x-python",
   "name": "python",
   "nbconvert_exporter": "python",
   "pygments_lexer": "ipython3",
   "version": "3.8.5"
  }
 },
 "nbformat": 4,
 "nbformat_minor": 5
}
