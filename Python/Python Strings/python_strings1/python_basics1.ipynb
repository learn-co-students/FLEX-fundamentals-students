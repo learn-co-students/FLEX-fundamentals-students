{
 "cells": [
  {
   "cell_type": "markdown",
   "id": "0b457d0a",
   "metadata": {},
   "source": [
    "# Python Fundamentals\n",
    "\n",
    "\n",
    "<img src=\"images/apology.jpeg\" style=\"width:500px;\">\n",
    "\n",
    "Image source: [Britannica](https://www.britannica.com/biography/Socrates/Platos-Apology)\n",
    "\n",
    "<img src=\"images/paine.jpeg\" style=\"width:500px;\">\n",
    "\n",
    "Image source: [The Great Peacemakers](https://www.thegreatpeacemakers.com/thomas-paine.html)"
   ]
  },
  {
   "cell_type": "markdown",
   "id": "d8e0a0ae",
   "metadata": {},
   "source": [
    "# Prepare the texts of  Plato's *Apology* and The Writings of Thomas Paine for Analysis (Next Session)\n",
    "\n",
    "Both Socrates, via the writings of Plato, and Thomas Paine, the early American political writer, had ideas about virtue and citizenship.  However, they came from very different times.  Let's analyze and compare some of their work.\n",
    "\n",
    "In this notebooks you will:\n",
    "\n",
    "1. Download a translation of Plato's *Apology* and the complete writings of Thomas Paine,\n",
    "2. Search the documents for relevant sections and slice them from the whole,\n",
    "3. Clean up the text by replacing characters\n",
    "4. Save the processed text file\n",
    "\n",
    "**Note** While the writings of Thomas Paine are originally in English, the writings of Plato were originally in Ancient Greek.  We will be exploring an English translation of Plato, which will be influential on the vocabulary used."
   ]
  },
  {
   "cell_type": "markdown",
   "id": "5a11e099",
   "metadata": {},
   "source": [
    "# 0. Load the module you will need to download data from the internet."
   ]
  },
  {
   "cell_type": "code",
   "execution_count": null,
   "id": "c3518c95",
   "metadata": {},
   "outputs": [],
   "source": []
  },
  {
   "cell_type": "markdown",
   "id": "1acb5219",
   "metadata": {},
   "source": [
    "# 1. Download the Data \n",
    "\n",
    "#### Save the text of *Plato's Apology* as a string into a variable called `plato_text`.\n",
    "\n",
    "You can use this link to get it from The Gutenberg Project:  https://www.gutenberg.org/files/1656/1656-0.txt"
   ]
  },
  {
   "cell_type": "code",
   "execution_count": null,
   "id": "e92bb640",
   "metadata": {},
   "outputs": [],
   "source": []
  },
  {
   "cell_type": "markdown",
   "id": "c0b15404",
   "metadata": {},
   "source": [
    "#### Save the text of *The Writings of Thomas Paine, Complete* to a variable named `paine_text`.\n",
    "You can use this link to get it from The Gutenberg Project: https://www.gutenberg.org/cache/epub/31270/pg31270.txt"
   ]
  },
  {
   "cell_type": "code",
   "execution_count": null,
   "id": "b427dfcf",
   "metadata": {},
   "outputs": [],
   "source": []
  },
  {
   "cell_type": "markdown",
   "id": "3f5a9cad",
   "metadata": {},
   "source": [
    "# 2. Examine the data\n",
    "\n",
    "Print the first 100k characters of each string."
   ]
  },
  {
   "cell_type": "code",
   "execution_count": null,
   "id": "feaff4a0",
   "metadata": {},
   "outputs": [],
   "source": []
  },
  {
   "cell_type": "code",
   "execution_count": null,
   "id": "2ed2091a",
   "metadata": {},
   "outputs": [],
   "source": []
  },
  {
   "cell_type": "markdown",
   "id": "4879ae6c",
   "metadata": {},
   "source": [
    "# 2. Process the Data"
   ]
  },
  {
   "cell_type": "markdown",
   "id": "e4644530",
   "metadata": {},
   "source": [
    "#### Each document has a preface or introduction.  We want to compare only the actual text of the author's writing.  \n",
    "\n",
    "* Remove introductions, prefaces, headings, and any tables of contents and save document from the author's first words on.\n",
    "\n",
    "Hint: *Apology* starts with **'How you, O Athenians'** \n",
    "\n",
    "and *The Writings of Thomas Paine, Complete* starts with **'THESE are the times that try men's souls.'**\n",
    "\n",
    "* Remove licensing information at the end of the document.  \n",
    "\n",
    "Hint: The licensing information at the end of *Apology* starts with **'End of the Project Gutenberg EBook of Apology, by Plato'**\n",
    "\n",
    "and the licensing information at the end of *The Writings of Thomas Paine, Complere* starts with **'End of the Project Gutenberg EBook of The Writings Of Thomas Paine, Complete'**\n",
    "\n",
    "* Set the variables `paine` and `plato` to these new slices.\n",
    "\n",
    "* Make sure you print the new variables to make sure the texts start in the correct places."
   ]
  },
  {
   "cell_type": "code",
   "execution_count": null,
   "id": "4e99aac0",
   "metadata": {},
   "outputs": [],
   "source": []
  },
  {
   "cell_type": "code",
   "execution_count": null,
   "id": "2f05faff",
   "metadata": {},
   "outputs": [],
   "source": []
  },
  {
   "cell_type": "markdown",
   "id": "cee90889",
   "metadata": {},
   "source": [
    "In `plato` a double dash is showing up as 'â\\x80\\x94'.  Replace all occurances of this string with a space and single dash, ' -'.\n",
    "\n",
    "(*Don't worry about `\\r\\n`.  That just tells the `print()` function to create a new line.*)"
   ]
  },
  {
   "cell_type": "code",
   "execution_count": null,
   "id": "eab17ff6",
   "metadata": {
    "scrolled": true
   },
   "outputs": [],
   "source": []
  },
  {
   "cell_type": "markdown",
   "id": "d9599eb5",
   "metadata": {},
   "source": [
    "## Progress Check\n",
    "\n",
    "Your two strings should now contain only the words of the original author's texts with no additional beginning or ending from The Gutenberg Project.  They are ready for text analysis in part 2 of Python Basics.  Plato's text should also properly contain dashes rather than `â`.  You are ready to save your work"
   ]
  },
  {
   "cell_type": "markdown",
   "id": "4ff1f50b",
   "metadata": {},
   "source": [
    "# Save your progress\n",
    "\n",
    "Write a function, `save_text()` that takes 2 arguments\n",
    "1. a string to save to disk\n",
    "2. a filepath.\n",
    "\n",
    "Use your function Save your processed strings as `'plato.txt'` and `'paine.txt'`.  \n",
    "\n",
    "Remember to close the file after you write to it."
   ]
  },
  {
   "cell_type": "code",
   "execution_count": null,
   "id": "ad54b831",
   "metadata": {},
   "outputs": [],
   "source": []
  },
  {
   "cell_type": "code",
   "execution_count": null,
   "id": "12933925",
   "metadata": {},
   "outputs": [],
   "source": []
  },
  {
   "cell_type": "markdown",
   "id": "8ff92715",
   "metadata": {},
   "source": [
    "# Summary\n",
    "\n",
    "# Congratulations!\n",
    "In this challenge you:\n",
    "\n",
    "1. Downloaded two books from The Gutenberg Project website and transformed them from .txt files into python strings.\n",
    "2. Used string methods and to locate text in a string\n",
    "3. Sliced a string to keep only the parts you wanted\n",
    "3. Replaced all instances of one character with another\n",
    "4. Saved the processed string back into a txt file for future use.\n",
    "\n",
    "# [Exit Ticket](https://docs.google.com/forms/d/e/1FAIpQLScVX-8y_vNLjaxFry_wWacl2a8NhvznAQvNkmiuXmxQ6b_wKg/viewform?usp=sf_link)\n",
    "\n",
    "Please complete the above exit ticket to let us know how we can improve."
   ]
  },
  {
   "cell_type": "code",
   "execution_count": null,
   "id": "a7e5bcea",
   "metadata": {},
   "outputs": [],
   "source": []
  }
 ],
 "metadata": {
  "kernelspec": {
   "display_name": "learn-env",
   "language": "python",
   "name": "learn-env"
  },
  "language_info": {
   "codemirror_mode": {
    "name": "ipython",
    "version": 3
   },
   "file_extension": ".py",
   "mimetype": "text/x-python",
   "name": "python",
   "nbconvert_exporter": "python",
   "pygments_lexer": "ipython3",
   "version": "3.8.5"
  }
 },
 "nbformat": 4,
 "nbformat_minor": 5
}
