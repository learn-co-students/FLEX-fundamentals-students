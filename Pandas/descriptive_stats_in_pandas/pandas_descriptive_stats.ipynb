{
 "cells": [
  {
   "cell_type": "markdown",
   "id": "e1bfdf2f",
   "metadata": {},
   "source": [
    "![ice cream flavors](images/difference-flavors-of-ice-cream.jpeg)\n",
    "\n",
    "\n",
    "# Let's analyze ice cream flavor reviews in Pandas!\n",
    "\n",
    "We are working on analyzing reviews of ice cream flavors to help retailers decide which flavors to carry and give feedback to manufacturers on how well each flavor is being received.\n",
    "\n",
    "In a previous session we joined two tables and removed missing data.  In this session we will:\n",
    "\n",
    "1. Examine summary statistics about numeric values in a dataframe\n",
    "2. Group a dataframe by one feature and examine statistics of each category in that feature\n",
    "3. Analyze and draw conclusions about those statistics"
   ]
  },
  {
   "cell_type": "markdown",
   "id": "a9a5d324",
   "metadata": {},
   "source": [
    "# 1. Import Modules\n",
    "\n",
    "Import Pandas as 'pd'"
   ]
  },
  {
   "cell_type": "code",
   "execution_count": null,
   "id": "90c5a7c4",
   "metadata": {},
   "outputs": [],
   "source": []
  },
  {
   "cell_type": "markdown",
   "id": "872e5b6e",
   "metadata": {},
   "source": [
    "# 2. Load the Data\n",
    "\n",
    "Load the table called 'icecream.csv' into a pandas dataframe named 'icecream' and display the first 5 rows"
   ]
  },
  {
   "cell_type": "code",
   "execution_count": null,
   "id": "4e2baf94",
   "metadata": {},
   "outputs": [],
   "source": []
  },
  {
   "cell_type": "markdown",
   "id": "7a7445bb",
   "metadata": {},
   "source": [
    "# Quick look at the statistics of the data\n",
    "\n",
    "Display a data frame showing the following for each numeric column:\n",
    "1. The maximum and minimum values\n",
    "2. The thresholds of each quartile\n",
    "3. The mean and standard deviation\n",
    "\n",
    "(Can you do this in one method?)"
   ]
  },
  {
   "cell_type": "code",
   "execution_count": null,
   "id": "d70b5b98",
   "metadata": {},
   "outputs": [],
   "source": []
  },
  {
   "cell_type": "markdown",
   "id": "b3b19a69",
   "metadata": {},
   "source": [
    "Write 3 interesting observations about this statistical analysis and make a hypothesis about each one.  \n",
    "\n",
    "These don't have to be complicated or profound...but can be!"
   ]
  },
  {
   "cell_type": "code",
   "execution_count": null,
   "id": "8aab098b",
   "metadata": {},
   "outputs": [],
   "source": [
    "# Type your observations here:\n",
    "\n",
    "# Observation 1:\n",
    "\n",
    "# Hypthothesis 1:\n",
    "\n",
    "# Observation 2:\n",
    "\n",
    "# Hypothesis 2:\n",
    "\n",
    "# Observation 3:\n",
    "\n",
    "# Hypthothesis 3:"
   ]
  },
  {
   "cell_type": "markdown",
   "id": "1847ba8c",
   "metadata": {},
   "source": [
    "Are there any columns that look like they may have a lot of placeholder values and very little useful data?  If so, remove those columns below."
   ]
  },
  {
   "cell_type": "code",
   "execution_count": null,
   "id": "488b37b2",
   "metadata": {},
   "outputs": [],
   "source": []
  },
  {
   "cell_type": "markdown",
   "id": "332394b0",
   "metadata": {},
   "source": [
    "Our manufacturers want to know how many reviews each flavor has, as well.\n",
    "\n",
    "Group the reviews by flavor and count how many are in each group.  Then sort them from most reviews to least."
   ]
  },
  {
   "cell_type": "markdown",
   "id": "22c6e095",
   "metadata": {},
   "source": [
    "# Statistics by flavor\n",
    "\n",
    "Above we examined statistics about the entire dataset.  Now let's start collecting some statistics about each flavor.  To do this, let's make a new dataframe to hold stats the stats.  \n",
    "Create a new dataframe called 'icecream_stats' and set the index to the unique names of the flavors of icecream in 'icecream' and the columns to 'num_reviews', 'mean_rating', and 'std'."
   ]
  },
  {
   "cell_type": "code",
   "execution_count": null,
   "id": "f3971afe",
   "metadata": {},
   "outputs": [],
   "source": []
  },
  {
   "cell_type": "markdown",
   "id": "74fa0a2c",
   "metadata": {},
   "source": [
    "Now, create a groupby object that groups the 'icecream' dataframe by 'name'."
   ]
  },
  {
   "cell_type": "code",
   "execution_count": null,
   "id": "dfd4a653",
   "metadata": {},
   "outputs": [],
   "source": []
  },
  {
   "cell_type": "markdown",
   "id": "1fe9fe18",
   "metadata": {
    "scrolled": true
   },
   "source": [
    "Now set each column of the 'icecream_stats' dataframe to a different statistic describing each flavor:\n",
    "\n",
    "Set 'num_ratings' to the number of ratings of each flavor.\n",
    "\n",
    "Set 'mean_rating' to the mean number of stars each flavor got.\n",
    "\n",
    "Set 'rating_std' to the standard deviation of the number of stars each flavor got."
   ]
  },
  {
   "cell_type": "code",
   "execution_count": null,
   "id": "b1c16fc6",
   "metadata": {
    "scrolled": true
   },
   "outputs": [],
   "source": []
  },
  {
   "cell_type": "markdown",
   "id": "328bb2e8",
   "metadata": {},
   "source": [
    "We have a hypothesis that the flavors with the most reviews also tend to have the highest ratings.  We think maybe that people tend to review the flavors they like.\n",
    "\n",
    "compare the number of reviews of each flavor to the mean number of stars the flavor gets."
   ]
  },
  {
   "cell_type": "code",
   "execution_count": null,
   "id": "ad4e2ae6",
   "metadata": {
    "scrolled": true
   },
   "outputs": [],
   "source": []
  },
  {
   "cell_type": "code",
   "execution_count": null,
   "id": "2431fcb5",
   "metadata": {
    "scrolled": true
   },
   "outputs": [],
   "source": []
  },
  {
   "cell_type": "code",
   "execution_count": null,
   "id": "e378c859",
   "metadata": {},
   "outputs": [],
   "source": [
    "# Is our hypothesis correct?\n",
    "\n",
    "#"
   ]
  },
  {
   "cell_type": "markdown",
   "id": "5d6eeab1",
   "metadata": {},
   "source": [
    "If you haven't already, check the correlations between the mean ratings, number of ratings, and standard deviation of the ratings.  Are any of them correlated?"
   ]
  },
  {
   "cell_type": "code",
   "execution_count": null,
   "id": "a7230b8f",
   "metadata": {},
   "outputs": [],
   "source": []
  },
  {
   "cell_type": "code",
   "execution_count": null,
   "id": "7e8695e5",
   "metadata": {},
   "outputs": [],
   "source": [
    "# Are there any strong correlations between these statistics?  What does this chart tell you?\n",
    "\n",
    "#\n",
    "#\n",
    "#"
   ]
  },
  {
   "cell_type": "markdown",
   "id": "e9588db5",
   "metadata": {},
   "source": [
    "# Recommendations"
   ]
  },
  {
   "cell_type": "code",
   "execution_count": null,
   "id": "e928e562",
   "metadata": {},
   "outputs": [],
   "source": [
    "# Based on our analysis so far, which 5 icecream flavors do you think retailers should stock?\n",
    "\n",
    "#\n",
    "#\n",
    "#\n",
    "\n",
    "# Are their any flavors that manufacturers should consider discontinuing?  If so, which ones?\n",
    "\n",
    "#\n",
    "#\n",
    "#"
   ]
  },
  {
   "cell_type": "markdown",
   "id": "9739cc60",
   "metadata": {},
   "source": [
    "# Bonus Round!\n",
    "\n",
    "Can you create a visualization of these statistics?"
   ]
  },
  {
   "cell_type": "code",
   "execution_count": null,
   "id": "109660ff",
   "metadata": {},
   "outputs": [],
   "source": []
  },
  {
   "cell_type": "markdown",
   "id": "d155d685",
   "metadata": {},
   "source": [
    "# Summary:\n",
    "\n",
    "In this notebook you:\n",
    "1. Examined summary statistics about a dataframe and used them to make choices about feature selection.\n",
    "2. Created a new dataframe\n",
    "3. Grouped a dataframe by a feature\n",
    "4. Returned statistics about categories in a feature\n",
    "5. Examined correlations between features\n",
    "6. Used your statistical analysis to make a recommendation to stakeholders.\n",
    "\n",
    "# Congratulations!\n",
    "\n",
    "## Please fill out the Exit Ticket below before you finish\n",
    "\n",
    "# [Exit Ticket](https://docs.google.com/forms/d/e/1FAIpQLScVX-8y_vNLjaxFry_wWacl2a8NhvznAQvNkmiuXmxQ6b_wKg/viewform?usp=sf_link)\n"
   ]
  },
  {
   "cell_type": "code",
   "execution_count": null,
   "id": "d7f3010e",
   "metadata": {},
   "outputs": [],
   "source": []
  }
 ],
 "metadata": {
  "kernelspec": {
   "display_name": "learn-env",
   "language": "python",
   "name": "learn-env"
  },
  "language_info": {
   "codemirror_mode": {
    "name": "ipython",
    "version": 3
   },
   "file_extension": ".py",
   "mimetype": "text/x-python",
   "name": "python",
   "nbconvert_exporter": "python",
   "pygments_lexer": "ipython3",
   "version": "3.8.5"
  }
 },
 "nbformat": 4,
 "nbformat_minor": 5
}
